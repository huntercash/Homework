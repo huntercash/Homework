{
 "cells": [
  {
   "cell_type": "code",
   "execution_count": null,
   "metadata": {},
   "outputs": [],
   "source": [
    "%matplotlib inline"
   ]
  },
  {
   "cell_type": "code",
   "execution_count": 1,
   "metadata": {},
   "outputs": [],
   "source": [
    "# Dependencies and Setup\n",
    "import matplotlib.pyplot as plt\n",
    "import pandas as pd\n",
    "import numpy as np\n",
    "import os\n",
    "\n",
    "# File to Load (Remember to change these)\n",
    "scatter_export = os.path.join(\"figures\", \"2018_by_city.png\")\n",
    "city_csv = os.path.join(\"data\", \"city_data.csv\")\n",
    "ride_csv = os.path.join(\"data\", \"ride_data.csv\")\n",
    "city_df = pd.read_csv(city_csv)\n",
    "ride_df = pd.read_csv(ride_csv)"
   ]
  },
  {
   "cell_type": "code",
   "execution_count": null,
   "metadata": {},
   "outputs": [],
   "source": []
  },
  {
   "cell_type": "code",
   "execution_count": 15,
   "metadata": {},
   "outputs": [],
   "source": [
    "# Read the City Data\n",
    "#city_df.dtypes\n",
    "#city_df.nunique()\n",
    "#city_df.describe()\n",
    "#city_df.driver_count.count()\n",
    "#city_df.city.count()\n",
    "#city_df.type.count()\n",
    "#city_df.count()\n",
    "city_df = city_df.drop_duplicates(\"city\", keep=\"first\")\n",
    "#city_df.head()"
   ]
  },
  {
   "cell_type": "code",
   "execution_count": 16,
   "metadata": {},
   "outputs": [],
   "source": [
    "# Read the City Data\n",
    "#ride_df.head()\n",
    "#ride_df.dtypes\n",
    "#ride_df.nunique()\n",
    "#ride_df.describe()\n",
    "#ride_df.count()"
   ]
  },
  {
   "cell_type": "code",
   "execution_count": 17,
   "metadata": {},
   "outputs": [
    {
     "data": {
      "text/html": [
       "<div>\n",
       "<style scoped>\n",
       "    .dataframe tbody tr th:only-of-type {\n",
       "        vertical-align: middle;\n",
       "    }\n",
       "\n",
       "    .dataframe tbody tr th {\n",
       "        vertical-align: top;\n",
       "    }\n",
       "\n",
       "    .dataframe thead th {\n",
       "        text-align: right;\n",
       "    }\n",
       "</style>\n",
       "<table border=\"1\" class=\"dataframe\">\n",
       "  <thead>\n",
       "    <tr style=\"text-align: right;\">\n",
       "      <th></th>\n",
       "      <th>city</th>\n",
       "      <th>date</th>\n",
       "      <th>fare</th>\n",
       "      <th>ride_id</th>\n",
       "      <th>driver_count</th>\n",
       "      <th>type</th>\n",
       "    </tr>\n",
       "  </thead>\n",
       "  <tbody>\n",
       "    <tr>\n",
       "      <th>0</th>\n",
       "      <td>Lake Jonathanshire</td>\n",
       "      <td>2018-01-14 10:14:22</td>\n",
       "      <td>13.83</td>\n",
       "      <td>5739410935873</td>\n",
       "      <td>5</td>\n",
       "      <td>Urban</td>\n",
       "    </tr>\n",
       "    <tr>\n",
       "      <th>1</th>\n",
       "      <td>South Michelleport</td>\n",
       "      <td>2018-03-04 18:24:09</td>\n",
       "      <td>30.24</td>\n",
       "      <td>2343912425577</td>\n",
       "      <td>72</td>\n",
       "      <td>Urban</td>\n",
       "    </tr>\n",
       "    <tr>\n",
       "      <th>2</th>\n",
       "      <td>Port Samanthamouth</td>\n",
       "      <td>2018-02-24 04:29:00</td>\n",
       "      <td>33.44</td>\n",
       "      <td>2005065760003</td>\n",
       "      <td>57</td>\n",
       "      <td>Urban</td>\n",
       "    </tr>\n",
       "    <tr>\n",
       "      <th>3</th>\n",
       "      <td>Rodneyfort</td>\n",
       "      <td>2018-02-10 23:22:03</td>\n",
       "      <td>23.44</td>\n",
       "      <td>5149245426178</td>\n",
       "      <td>34</td>\n",
       "      <td>Urban</td>\n",
       "    </tr>\n",
       "    <tr>\n",
       "      <th>4</th>\n",
       "      <td>South Jack</td>\n",
       "      <td>2018-03-06 04:28:35</td>\n",
       "      <td>34.58</td>\n",
       "      <td>3908451377344</td>\n",
       "      <td>46</td>\n",
       "      <td>Urban</td>\n",
       "    </tr>\n",
       "  </tbody>\n",
       "</table>\n",
       "</div>"
      ],
      "text/plain": [
       "                 city                 date   fare        ride_id  \\\n",
       "0  Lake Jonathanshire  2018-01-14 10:14:22  13.83  5739410935873   \n",
       "1  South Michelleport  2018-03-04 18:24:09  30.24  2343912425577   \n",
       "2  Port Samanthamouth  2018-02-24 04:29:00  33.44  2005065760003   \n",
       "3          Rodneyfort  2018-02-10 23:22:03  23.44  5149245426178   \n",
       "4          South Jack  2018-03-06 04:28:35  34.58  3908451377344   \n",
       "\n",
       "   driver_count   type  \n",
       "0             5  Urban  \n",
       "1            72  Urban  \n",
       "2            57  Urban  \n",
       "3            34  Urban  \n",
       "4            46  Urban  "
      ]
     },
     "execution_count": 17,
     "metadata": {},
     "output_type": "execute_result"
    }
   ],
   "source": [
    "# Combine the data into a single dataset\n",
    "#https://pandas.pydata.org/pandas-docs/stable/reference/api/pandas.DataFrame.merge.html\n",
    "#df = pd.merge(ride_df, city_df, left_index=True, right_index=True, on='city') #nope\n",
    "#df = pd.merge(ride_df, city_df, how='outer', on='city') #nope\n",
    "#df = pd.merge(ride_df, city_df, how='inner', on='city') #nope\n",
    "df = pd.merge(ride_df, city_df, how='left', on='city') #yep\n",
    "# Display the data table for preview\n",
    "df.head()\n",
    "#df.nunique()\n",
    "#df.describe()\n",
    "#df.dtypes\n",
    "#df.count()"
   ]
  },
  {
   "cell_type": "code",
   "execution_count": 18,
   "metadata": {},
   "outputs": [
    {
     "data": {
      "text/html": [
       "<div>\n",
       "<style scoped>\n",
       "    .dataframe tbody tr th:only-of-type {\n",
       "        vertical-align: middle;\n",
       "    }\n",
       "\n",
       "    .dataframe tbody tr th {\n",
       "        vertical-align: top;\n",
       "    }\n",
       "\n",
       "    .dataframe thead th {\n",
       "        text-align: right;\n",
       "    }\n",
       "</style>\n",
       "<table border=\"1\" class=\"dataframe\">\n",
       "  <thead>\n",
       "    <tr style=\"text-align: right;\">\n",
       "      <th></th>\n",
       "      <th>Driver Count</th>\n",
       "      <th>Mean Fare</th>\n",
       "      <th>Ride Count</th>\n",
       "      <th>City Type</th>\n",
       "    </tr>\n",
       "  </thead>\n",
       "  <tbody>\n",
       "    <tr>\n",
       "      <th>Amandaburgh</th>\n",
       "      <td>12.0</td>\n",
       "      <td>24.641667</td>\n",
       "      <td>18</td>\n",
       "      <td>Urban</td>\n",
       "    </tr>\n",
       "    <tr>\n",
       "      <th>Barajasview</th>\n",
       "      <td>26.0</td>\n",
       "      <td>25.332273</td>\n",
       "      <td>22</td>\n",
       "      <td>Urban</td>\n",
       "    </tr>\n",
       "    <tr>\n",
       "      <th>Barronchester</th>\n",
       "      <td>11.0</td>\n",
       "      <td>36.422500</td>\n",
       "      <td>16</td>\n",
       "      <td>Suburban</td>\n",
       "    </tr>\n",
       "    <tr>\n",
       "      <th>Bethanyland</th>\n",
       "      <td>22.0</td>\n",
       "      <td>32.956111</td>\n",
       "      <td>18</td>\n",
       "      <td>Suburban</td>\n",
       "    </tr>\n",
       "    <tr>\n",
       "      <th>Bradshawfurt</th>\n",
       "      <td>7.0</td>\n",
       "      <td>40.064000</td>\n",
       "      <td>10</td>\n",
       "      <td>Rural</td>\n",
       "    </tr>\n",
       "  </tbody>\n",
       "</table>\n",
       "</div>"
      ],
      "text/plain": [
       "               Driver Count  Mean Fare  Ride Count City Type\n",
       "Amandaburgh            12.0  24.641667          18     Urban\n",
       "Barajasview            26.0  25.332273          22     Urban\n",
       "Barronchester          11.0  36.422500          16  Suburban\n",
       "Bethanyland            22.0  32.956111          18  Suburban\n",
       "Bradshawfurt            7.0  40.064000          10     Rural"
      ]
     },
     "execution_count": 18,
     "metadata": {},
     "output_type": "execute_result"
    }
   ],
   "source": [
    "#Graph data \n",
    "#X = total number of rides(per city)\n",
    "#Y = mean fare price\n",
    "#Bubble = driver count per city\n",
    "#need to figure out count of rides per city per city type\n",
    "#make 3 different plots  for each city type Urban, Suburban, and Rural\n",
    "\n",
    "#Obtain the x and y coordinates for each of the three city types\n",
    "\n",
    "#https://www.shanelynn.ie/summarising-aggregation-and-grouping-data-in-python-pandas/\n",
    "city_group = df.groupby('city')\n",
    "fare_mean = city_group.mean()['fare']\n",
    "#print(fare_mean)\n",
    "ride_count = city_group[\"ride_id\"].count()\n",
    "#print(ride_count)\n",
    "driver_count = city_group.mean()[\"driver_count\"]\n",
    "#print(driver_count)\n",
    "rides = city_group['ride_id'].count()\n",
    "#print(rides)\n",
    "city_type = city_df.set_index('city')['type']\n",
    "#plt.scatter(ride_count, fare_sum, s=driver_count)\n",
    "\n",
    "#Make a new DF with all the new information instead of 4 series\n",
    "new_df = pd.DataFrame({\"Driver Count\":driver_count, \"Mean Fare\":fare_mean, \"Ride Count\":ride_count,\"City Type\": city_type})\n",
    "\n",
    "new_df.head()"
   ]
  },
  {
   "cell_type": "code",
   "execution_count": 19,
   "metadata": {},
   "outputs": [],
   "source": [
    "# Build the scatter plots for each city types\n",
    "# Urban\n",
    "# How do i make the bubbles bigger..\n",
    "# https://plot.ly/matplotlib/line-and-scatter/\n",
    "#x_axis = total number of rides per city\n",
    "#y_axis = average fare\n",
    "#grouped by city\n",
    "#circle size correlates with driver count per city\n",
    "#plt.scatter(x='driver_count', y='fare', s=rural['type'].count(), color='red')\n",
    "urban_df = new_df[new_df['City Type'] == 'Urban']\n",
    "#plt.scatter(urban_df['Ride Count'], urban_df['Mean Fare'], s=urban_df['Driver Count'], color='blue', label='Urban')\n",
    "# Build the scatter plots for each city types\n",
    "# Suburban\n",
    "suburban_df = new_df[new_df[\"City Type\"] == \"Suburban\"]\n",
    "#plt.scatter(suburban_df[\"Ride Count\"], suburban_df[\"Mean Fare\"], s=suburban_df[\"Driver Count\"], color=\"red\", label=\"Suburban\")\n",
    "# Build the scatter plots for each city types\n",
    "# Rural\n",
    "rural_df = new_df[new_df[\"City Type\"] == \"Rural\"]\n",
    "#plt.scatter(rural_df[\"Ride Count\"], rural_df[\"Mean Fare\"], s=rural_df[\"Driver Count\"], color=\"green\", label=\"Rural\")"
   ]
  },
  {
   "cell_type": "code",
   "execution_count": 20,
   "metadata": {},
   "outputs": [
    {
     "data": {
      "image/png": "[encoded data removed]",
      "text/plain": [
       "<Figure size 504x288 with 1 Axes>"
      ]
     },
     "metadata": {
      "needs_background": "light"
     },
     "output_type": "display_data"
    }
   ],
   "source": [
    "#Paste the data to plot all together because it wouldn't aggregrate it by itself\n",
    "plt.scatter(urban_df['Ride Count'], urban_df['Mean Fare'], s=urban_df['Driver Count']*8,\n",
    "            edgecolor='black', alpha=0.5, color='blue', label='Urban')\n",
    "plt.scatter(suburban_df[\"Ride Count\"], suburban_df[\"Mean Fare\"], s=suburban_df[\"Driver Count\"]*8, \n",
    "            edgecolor='black', alpha=0.5, color=\"red\", label=\"Suburban\")\n",
    "plt.scatter(rural_df[\"Ride Count\"], rural_df[\"Mean Fare\"], s=rural_df[\"Driver Count\"]*8, \n",
    "            edgecolor='black', alpha=0.5, color=\"green\", label=\"Rural\")\n",
    "# Incorporate the other graph properties\n",
    "plt.xlabel(\"Total Number of Rides (Per City)\")\n",
    "plt.ylabel(\"Average Fare ($)\")\n",
    "plt.title(\"Pyber Ride Data (2018)\")\n",
    "plt.figtext(0.25, -0.05, 'Note: Circle size correlates with driver count per city.')\n",
    "plt.grid(True)\n",
    "# Create a legend\n",
    "#Dicitonary of labels and colors\n",
    "colors = ['blue', 'red', 'green']\n",
    "labels = ['Urban', 'Suburban', 'Rural']\n",
    "markers = 'o'\n",
    "#leg_colors = {'Urban':'blue', 'Suburban':'red', 'Rural':'green'}\n",
    "plt.legend(labels,\n",
    "           colors, \n",
    "           numpoints=1, \n",
    "           title='City Types', \n",
    "           loc='best')\n",
    "#width,height because the default box looked bad\n",
    "plt.rcParams['figure.figsize'] = [7,4]\n",
    "# Export Figure\n",
    "plt.savefig(scatter_export)\n",
    "plt.show()\n",
    "# Incorporate a text label regarding circle size\n",
    "#https://matplotlib.org/api/_as_gen/matplotlib.pyplot.text.html\n",
    "#the dots are kind of small, fixed by multiplying s values *10\n",
    "#outline circles in black by adding edge color to plt.scatters\n",
    "#make it easier to read by adding alpha -see throughness- alpha=0.5\n",
    "#add the figure text, can't figure out how to make it 2 lines\n",
    "# Save Figure to the Figures Folder\n"
   ]
  },
  {
   "cell_type": "markdown",
   "metadata": {},
   "source": [
    "### Total Fares by City Type (Pie Chart)"
   ]
  },
  {
   "cell_type": "code",
   "execution_count": 30,
   "metadata": {},
   "outputs": [],
   "source": [
    "explode = (0.1, 0.1, 0.1)\n",
    "colors = ['blue', 'red', 'green']\n",
    "labels = ['Urban', 'Suburban', 'Rural']"
   ]
  },
  {
   "cell_type": "code",
   "execution_count": 31,
   "metadata": {},
   "outputs": [
    {
     "data": {
      "text/plain": [
       "Text(0.5, 1.0, '% of Total Fares by City Type')"
      ]
     },
     "execution_count": 31,
     "metadata": {},
     "output_type": "execute_result"
    },
    {
     "data": {
      "image/png": "[encoded data removed]",
      "text/plain": [
       "<Figure size 504x288 with 1 Axes>"
      ]
     },
     "metadata": {},
     "output_type": "display_data"
    }
   ],
   "source": [
    "# From Notes, new dataframe with fares grouped by \"Type\"\n",
    "#Calculate Ride %s \n",
    "total_fares = df.groupby('type')['fare', 'type']\n",
    "fares_sum = total_fares.sum()['fare']\n",
    "fares_sum\n",
    "\n",
    "#build pie chart\n",
    "plt.pie(fares_sum,\n",
    "        explode=explode,\n",
    "        labels=labels,\n",
    "        colors=colors,\n",
    "        autopct=\"%1.1f%%\",\n",
    "        shadow=False,\n",
    "        startangle=140,\n",
    "        )\n",
    "plt.title(\"% of Total Fares by City Type\")\n",
    "#plt.pie(pie_votes, explode=explode, labels=pies, colors=colors, autopct=\"%1.1f%%\", shadow=True, startangle=140)"
   ]
  },
  {
   "cell_type": "markdown",
   "metadata": {},
   "source": [
    "### Total Rides by City Type (Pie Chart)"
   ]
  },
  {
   "cell_type": "code",
   "execution_count": null,
   "metadata": {},
   "outputs": [],
   "source": []
  },
  {
   "cell_type": "markdown",
   "metadata": {},
   "source": [
    "#### Total Drivers Per City Type (Pie Chart)"
   ]
  }
 ],
 "metadata": {
  "kernelspec": {
   "display_name": "Python 3",
   "language": "python",
   "name": "python3"
  },
  "language_info": {
   "codemirror_mode": {
    "name": "ipython",
    "version": 3
   },
   "file_extension": ".py",
   "mimetype": "text/x-python",
   "name": "python",
   "nbconvert_exporter": "python",
   "pygments_lexer": "ipython3",
   "version": "3.6.8"
  }
 },
 "nbformat": 4,
 "nbformat_minor": 2
}
