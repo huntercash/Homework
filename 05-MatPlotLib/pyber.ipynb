{
 "cells": [
  {
   "cell_type": "code",
   "execution_count": null,
   "metadata": {},
   "outputs": [],
   "source": [
    "%matplotlib inline\n",
    "# Dependencies and Setup\n",
    "import matplotlib.pyplot as plt\n",
    "import pandas as pd\n",
    "import numpy as np\n",
    "import os\n",
    "\n",
    "# File to Load (Remember to change these)\n",
    "scatter_export = os.path.join(\"figures\", \"2018_by_city.png\")\n",
    "city_csv = os.path.join(\"data\", \"city_data.csv\")\n",
    "ride_csv = os.path.join(\"data\", \"ride_data.csv\")\n",
    "city_df = pd.read_csv(city_csv)\n",
    "ride_df = pd.read_csv(ride_csv)"
   ]
  },
  {
   "cell_type": "code",
   "execution_count": null,
   "metadata": {},
   "outputs": [],
   "source": [
    "# Read the City Data\n",
    "#city_df.dtypes\n",
    "#city_df.nunique()\n",
    "#city_df.describe()\n",
    "#city_df.driver_count.count()\n",
    "#city_df.city.count()\n",
    "#city_df.type.count()\n",
    "#city_df.count()\n",
    "city_df = city_df.drop_duplicates(\"city\", keep=\"first\")\n",
    "#city_df.head()"
   ]
  },
  {
   "cell_type": "code",
   "execution_count": null,
   "metadata": {},
   "outputs": [],
   "source": [
    "# Read the City Data\n",
    "#ride_df.head()\n",
    "#ride_df.dtypes\n",
    "#ride_df.nunique()\n",
    "#ride_df.describe()\n",
    "#ride_df.count()"
   ]
  },
  {
   "cell_type": "code",
   "execution_count": null,
   "metadata": {},
   "outputs": [],
   "source": [
    "# Combine the data into a single dataset\n",
    "#https://pandas.pydata.org/pandas-docs/stable/reference/api/pandas.DataFrame.merge.html\n",
    "#df = pd.merge(ride_df, city_df, left_index=True, right_index=True, on='city') #nope\n",
    "#df = pd.merge(ride_df, city_df, how='outer', on='city') #nope\n",
    "#df = pd.merge(ride_df, city_df, how='inner', on='city') #nope\n",
    "df = pd.merge(ride_df, city_df, how='left', on='city') #yep\n",
    "# Display the data table for preview\n",
    "df.head()\n",
    "#df.nunique()\n",
    "#df.describe()\n",
    "#df.dtypes\n",
    "#df.count()"
   ]
  },
  {
   "cell_type": "code",
   "execution_count": null,
   "metadata": {},
   "outputs": [],
   "source": [
    "#Graph data \n",
    "#X = total number of rides(per city)\n",
    "#Y = mean fare price\n",
    "#Bubble = driver count per city\n",
    "#need to figure out count of rides per city per city type\n",
    "#make 3 different plots  for each city type Urban, Suburban, and Rural\n",
    "\n",
    "#Obtain the x and y coordinates for each of the three city types\n",
    "\n",
    "#https://www.shanelynn.ie/summarising-aggregation-and-grouping-data-in-python-pandas/\n",
    "city_group = df.groupby('city')\n",
    "fare_mean = city_group.mean()['fare']\n",
    "#print(fare_mean)\n",
    "ride_count = city_group[\"ride_id\"].count()\n",
    "#print(ride_count)\n",
    "driver_count = city_group.mean()[\"driver_count\"]\n",
    "#print(driver_count)\n",
    "rides = city_group['ride_id'].count()\n",
    "#print(rides)\n",
    "city_type = city_df.set_index('city')['type']\n",
    "#plt.scatter(ride_count, fare_sum, s=driver_count)\n",
    "\n",
    "#Make a new DF with all the new information instead of 4 series\n",
    "new_df = pd.DataFrame({\"Driver Count\":driver_count, \"Mean Fare\":fare_mean, \"Ride Count\":ride_count,\"City Type\": city_type})\n",
    "\n",
    "new_df.head()"
   ]
  },
  {
   "cell_type": "code",
   "execution_count": null,
   "metadata": {},
   "outputs": [],
   "source": [
    "# Build the scatter plots for each city types\n",
    "# Urban\n",
    "# How do i make the bubbles bigger..\n",
    "# https://plot.ly/matplotlib/line-and-scatter/\n",
    "#x_axis = total number of rides per city\n",
    "#y_axis = average fare\n",
    "#grouped by city\n",
    "#circle size correlates with driver count per city\n",
    "#plt.scatter(x='driver_count', y='fare', s=rural['type'].count(), color='red')\n",
    "urban_df = new_df[new_df['City Type'] == 'Urban']\n",
    "#plt.scatter(urban_df['Ride Count'], urban_df['Mean Fare'], s=urban_df['Driver Count'], color='blue', label='Urban')\n",
    "# Build the scatter plots for each city types\n",
    "# Suburban\n",
    "suburban_df = new_df[new_df[\"City Type\"] == \"Suburban\"]\n",
    "#plt.scatter(suburban_df[\"Ride Count\"], suburban_df[\"Mean Fare\"], s=suburban_df[\"Driver Count\"], color=\"red\", label=\"Suburban\")\n",
    "# Build the scatter plots for each city types\n",
    "# Rural\n",
    "rural_df = new_df[new_df[\"City Type\"] == \"Rural\"]\n",
    "#plt.scatter(rural_df[\"Ride Count\"], rural_df[\"Mean Fare\"], s=rural_df[\"Driver Count\"], color=\"green\", label=\"Rural\")"
   ]
  },
  {
   "cell_type": "code",
   "execution_count": null,
   "metadata": {},
   "outputs": [],
   "source": [
    "#Paste the data to plot all together because it wouldn't aggregrate it by itself\n",
    "plt.scatter(urban_df['Ride Count'], urban_df['Mean Fare'], s=urban_df['Driver Count']*8,\n",
    "            edgecolor='black', alpha=0.5, color='blue', label='Urban')\n",
    "plt.scatter(suburban_df[\"Ride Count\"], suburban_df[\"Mean Fare\"], s=suburban_df[\"Driver Count\"]*8, \n",
    "            edgecolor='black', alpha=0.5, color=\"red\", label=\"Suburban\")\n",
    "plt.scatter(rural_df[\"Ride Count\"], rural_df[\"Mean Fare\"], s=rural_df[\"Driver Count\"]*8, \n",
    "            edgecolor='black', alpha=0.5, color=\"green\", label=\"Rural\")\n",
    "\n",
    "# Incorporate the other graph properties\n",
    "plt.xlabel(\"Total Number of Rides (Per City)\")\n",
    "plt.ylabel(\"Average Fare ($)\")\n",
    "plt.title(\"Pyber Ride Data (2018)\")\n",
    "plt.figtext(1, 0.5, 'Note: Circle size correlates with driver count per city.')\n",
    "plt.grid(True)\n",
    "\n",
    "# Create a legend\n",
    "plt.legend(title=\"City Types\")\n",
    "leg_colors = {'Urban':'blue', 'Suburban':'red', 'Rural':'green'}\n",
    "#now they're all weird sizes..\n",
    "markers = [plt.Line2D([0,0],[0,0],color=color, marker='o', linestyle='') for color in leg_colors.values()]\n",
    "#now they're not!\n",
    "plt.legend(markers, leg_colors.keys(), numpoints=1, title='City Types', loc='best')\n",
    "#width,height because the default box looked bad\n",
    "plt.rcParams['figure.figsize'] = [7,4]\n",
    "plt.savefig(scatter_export)\n",
    "plt.show()\n",
    "# Incorporate a text label regarding circle size\n",
    "#ttps://matplotlib.org/api/_as_gen/matplotlib.pyplot.text.html\n",
    "#the dots are kind of small, fixed by multiplying s values *10\n",
    "#outline circles in black by adding edge color to plt.scatters\n",
    "#make it easier to read by adding alpha -see throughness- alpha=0.5\n",
    "#add the figure text, can't figure out how to make it 2 lines\n",
    "# Save Figure to the Figures Folder\n"
   ]
  },
  {
   "cell_type": "code",
   "execution_count": null,
   "metadata": {},
   "outputs": [],
   "source": []
  },
  {
   "cell_type": "code",
   "execution_count": null,
   "metadata": {},
   "outputs": [],
   "source": []
  },
  {
   "cell_type": "code",
   "execution_count": null,
   "metadata": {},
   "outputs": [],
   "source": []
  },
  {
   "cell_type": "code",
   "execution_count": null,
   "metadata": {},
   "outputs": [],
   "source": []
  }
 ],
 "metadata": {
  "kernelspec": {
   "display_name": "Python 3",
   "language": "python",
   "name": "python3"
  },
  "language_info": {
   "codemirror_mode": {
    "name": "ipython",
    "version": 3
   },
   "file_extension": ".py",
   "mimetype": "text/x-python",
   "name": "python",
   "nbconvert_exporter": "python",
   "pygments_lexer": "ipython3",
   "version": "3.6.8"
  }
 },
 "nbformat": 4,
 "nbformat_minor": 2
}
