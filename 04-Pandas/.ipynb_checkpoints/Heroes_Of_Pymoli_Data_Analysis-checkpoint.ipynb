{
 "cells": [
  {
   "cell_type": "markdown",
   "metadata": {},
   "source": [
    "### Heroes Of Pymoli Data Analysis\n",
    "* Of the 1163 active players, the vast majority are male (84%). There also exists, a smaller, but notable proportion of female players (14%).\n",
    "\n",
    "* Our peak age demographic falls between 20-24 (44.8%) with secondary groups falling between 15-19 (18.60%) and 25-29 (13.4%).  "
   ]
  },
  {
   "cell_type": "code",
   "execution_count": null,
   "metadata": {},
   "outputs": [],
   "source": [
    "#Import Dependencies\n",
    "import os\n",
    "import pandas as pd"
   ]
  },
  {
   "cell_type": "code",
   "execution_count": null,
   "metadata": {},
   "outputs": [],
   "source": [
    "#Import the CSV file and tell pandas where to find it\n",
    "gamedata_csv = os.path.join(\"Resources\", \"purchase_data.csv\")\n",
    "main_df = pd.read_csv(gamedata_csv)\n",
    "#main_df.dtypes\n",
    "#main_df.columns\n",
    "#Index(['Purchase ID', 'SN', 'Age', 'Gender', 'Item ID', 'Item Name', 'Price'], dtype='object')"
   ]
  },
  {
   "cell_type": "code",
   "execution_count": null,
   "metadata": {},
   "outputs": [],
   "source": [
    "#Display the total number of players\n",
    "#Dreate a new data frame with just the SN column\n",
    "#Find unique player names in the SN column and count them\n",
    "playercount_df = main_df.loc[:,\"SN\"].nunique()\n",
    "#print(\"Total Players is \" + str(playercount_df))"
   ]
  },
  {
   "cell_type": "markdown",
   "metadata": {},
   "source": [
    "## Player Count"
   ]
  },
  {
   "cell_type": "code",
   "execution_count": null,
   "metadata": {},
   "outputs": [],
   "source": [
    "players_total_df = pd.DataFrame([{\"Total Players\":playercount_df}])\n",
    "players_total_df\n",
    "players_total_df.set_index('Total Players', inplace=True)\n",
    "players_total_df\n",
    "#For Aesthetics, turned Total players into the index to hide the zero"
   ]
  },
  {
   "cell_type": "markdown",
   "metadata": {},
   "source": [
    "## Purchase Analysis (Total)"
   ]
  },
  {
   "cell_type": "code",
   "execution_count": null,
   "metadata": {},
   "outputs": [],
   "source": [
    "#Purchase Analysis\n",
    "pd.options.display.float_format = '${:,.2f}'.format\n",
    "#Find Number of Unique Items\n",
    "unique_items = main_df.loc[:,\"Item ID\"]\n",
    "#unique_items.nunique()\n",
    "#Find Average Price of Items\n",
    "average_price = main_df.loc[:,\"Price\"]\n",
    "#average_price.mean()\n",
    "#Find Total Number of Purchases\n",
    "total_purchases = main_df.loc[:,\"Purchase ID\"]\n",
    "#total_purchases.count()\n",
    "#Find the Sum of of Price for Total Revenue\n",
    "total_revenue = main_df.loc[:,\"Price\"]\n",
    "#total_revenue.sum()\n",
    "\n",
    "#Create a new dataframe and have 4 columns for total number of purchases, and revenue\n",
    "purchase_analysis_df = pd.DataFrame([{\"Number of Unique Items\":unique_items.nunique(),\n",
    "                                      \"Average Price\":average_price.mean(),\n",
    "                                      \"Number Of Purchases\":total_purchases.count(),\n",
    "                                      \"Total Revenue\":total_revenue.sum()}])\n",
    "purchase_analysis_df = purchase_analysis_df[[\"Number of Unique Items\", \"Average Price\", \"Number Of Purchases\", \"Total Revenue\"]]\n",
    "purchase_analysis_df"
   ]
  },
  {
   "cell_type": "markdown",
   "metadata": {},
   "source": [
    "## Gender Demographics"
   ]
  },
  {
   "cell_type": "code",
   "execution_count": null,
   "metadata": {},
   "outputs": [],
   "source": [
    "#Format it\n",
    "pd.options.display.float_format = '{:,.2f}%'.format\n",
    "#Gender Demographics\n",
    "#Group by Gender\n",
    "#Figure out .nunique() of those genders\n",
    "#Drop Columns that are not needed such as Purchase ID, Age, Gender, Item ID, Item Name, Price\n",
    "gender_demographics = pd.DataFrame(main_df.groupby(\"Gender\")[\"SN\"].nunique())\n",
    "#Rename Column df = df.rename(columns={'oldName1': 'newName1', 'oldName2': 'newName2'})\n",
    "new_gender_df = gender_demographics.rename(columns={'SN': 'Total Count'})\n",
    "#Divide Total Count rows by the Sum of the Total Count \n",
    "new_gender_df['Percentage of Players'] = (new_gender_df['Total Count'] / new_gender_df['Total Count'].sum()) *100\n",
    "#Sort it\n",
    "new_gender_df = new_gender_df.sort_values(\"Total Count\",ascending = False)\n",
    "new_gender_df"
   ]
  },
  {
   "cell_type": "markdown",
   "metadata": {},
   "source": [
    "## Purchasing Analysis (Gender)"
   ]
  },
  {
   "cell_type": "code",
   "execution_count": null,
   "metadata": {},
   "outputs": [],
   "source": [
    "pd.options.display.float_format = '${:,.2f}'.format\n",
    "#Purchasing Analysis Gender\n",
    "#\"Purchase Count\" \"Average Purchase\" \"Price Total Purchase\" \"Value Avg Total\" \"Purchase per Person\"\n",
    "#Group by Gender and Get nunique of Purchase ID to get purchases\n",
    "gender_analysis = pd.DataFrame(main_df.groupby(\"Gender\")[\"Purchase ID\"].nunique())\n",
    "#Rename the column\n",
    "gender_analysis = gender_analysis.rename(columns={'Purchase ID':'Purchase Count'})\n",
    "#Add a group by column to the dataframe with all the calculations\n",
    "gender_analysis['Average Purchase Price'] = main_df.groupby(\"Gender\")[\"Price\"].mean()\n",
    "gender_analysis['Total Purchase Value'] = main_df.groupby(\"Gender\")[\"Price\"].sum()\n",
    "#gender_analysis['Avg Total Purchase per Person'] = main_df.groupby(\"Gender\")[\"Price\"].nunique() (this didn't work)\n",
    "gender_analysis['Avg Total Purchase per Person'] = gender_analysis['Total Purchase Value'] / main_df.groupby(\"Gender\")\\\n",
    "[\"SN\"].nunique()\n",
    "gender_analysis\n",
    "#Now Format at top"
   ]
  },
  {
   "cell_type": "markdown",
   "metadata": {},
   "source": [
    "## Age Demographics"
   ]
  },
  {
   "cell_type": "code",
   "execution_count": null,
   "metadata": {},
   "outputs": [],
   "source": [
    "pd.options.display.float_format = '{:,.2f}%'.format\n",
    "#Age Demographics\n",
    "#Create Bins\n",
    "# Create the bins in which Data will be held\n",
    "# Bins are <10, 10-14, 15-19, 20-24, 25-29, 30-34, 35-39, >40\n",
    "age_bins = [0, 9, 14, 19, 24, 29, 34, 39, 120]\n",
    "# Create the names for the four bins\n",
    "age_groups = [\"<10\", \"10-14\", \"15-19\", \"20-24\", \"25-29\", \"30-34\", \"35-39\", \"40+\"]\n",
    "#Categorize the existing players using the age bins. Hint: use pd.cut()\n",
    "#Create a summary data frame to hold the results\n",
    "age_df = pd.DataFrame(main_df)\n",
    "age_df[\"Age Groups\"] = pd.cut(main_df[\"Age\"], age_bins, labels=age_groups) \n",
    "age_df = pd.DataFrame(age_df.groupby(\"Age Groups\")[\"SN\"].nunique())\n",
    "#Rename SN to Total Count\n",
    "age_df = age_df.rename(columns={'SN':'Total Count'})\n",
    "#Calculate the numbers and percentages by age group\n",
    "age_df['Percentage of Players'] = age_df['Total Count'] / main_df[\"SN\"].nunique() *100\n",
    "age_df"
   ]
  },
  {
   "cell_type": "markdown",
   "metadata": {},
   "source": [
    "## Purchasing Analysis (Age)"
   ]
  },
  {
   "cell_type": "code",
   "execution_count": null,
   "metadata": {},
   "outputs": [],
   "source": [
    "pd.options.display.float_format = '${:,.2f}'.format\n",
    "#Bin the purchase_data data frame by age\n",
    "#Run basic calculations to obtain purchase count, avg. purchase price, avg. purchase total per person etc. in the table below\n",
    "#Create a summary data frame to hold the results\n",
    "#Optional: give the displayed data cleaner formatting\n",
    "#Display the summary data frame\n",
    "age_df = pd.DataFrame(main_df)\n",
    "new_age_df = pd.DataFrame(age_df.groupby(\"Age Groups\")[\"SN\"].count())\n",
    "new_age_df = new_age_df.rename(columns={'SN':'Purchase Count'})\n",
    "new_age_df['Average Purchase Price'] = age_df.groupby(\"Age Groups\")[\"Price\"].mean()\n",
    "new_age_df['Total Purchase Value'] = age_df.groupby(\"Age Groups\")[\"Price\"].sum()\n",
    "new_age_df['Avg Total Purchase per Person'] = new_age_df['Total Purchase Value'] / age_df.groupby(\"Age Groups\")\\\n",
    "[\"SN\"].nunique()\n",
    "new_age_df.head(8)"
   ]
  },
  {
   "cell_type": "markdown",
   "metadata": {},
   "source": [
    "## Top Spenders"
   ]
  },
  {
   "cell_type": "code",
   "execution_count": null,
   "metadata": {},
   "outputs": [],
   "source": [
    "#new dataframe where SN is the group by showing purchase count per sn, average purchase price and total purchase value\n",
    "sn_df = pd.DataFrame(main_df.groupby(\"SN\")[\"Purchase ID\"].nunique())\n",
    "sn_df = sn_df.rename(columns={'Purchase ID':'Purchase Count'})\n",
    "sn_df['Average Purchase Price'] = main_df.groupby(\"SN\")[\"Price\"].mean()\n",
    "sn_df['Total Purchase Value'] = main_df.groupby(\"SN\")[\"Price\"].sum()\n",
    "sn_df = sn_df.sort_values(by=['Total Purchase Value'], ascending=False)\n",
    "sn_df.head()"
   ]
  },
  {
   "cell_type": "markdown",
   "metadata": {},
   "source": [
    "## Most Popular Items"
   ]
  },
  {
   "cell_type": "code",
   "execution_count": null,
   "metadata": {},
   "outputs": [],
   "source": [
    "#New dataframe and pull in a list of item id, item name, and sum of value per item\n",
    "#Group by Item ID, and  Item Name\n",
    "#Create a new column that pulls the same groups and counts the item names by group id\n",
    "#Figure out price per item based on the count/sum of value\n",
    "#Rename the Columns\n",
    "#Sort the rows\n",
    "#Sort the Columns\n",
    "item_df = main_df[[\"Item ID\", \"Item Name\", \"Price\"]]\n",
    "item_grouped_df = item_df.groupby([\"Item ID\", \"Item Name\"]).sum()\n",
    "item_grouped_df[\"Purchase Count\"] = item_df.groupby([\"Item ID\", \"Item Name\"]).count()\n",
    "item_grouped_df[\"Item Price\"] = (item_grouped_df[\"Price\"]/item_grouped_df[\"Purchase Count\"])\n",
    "item_grouped_df = item_grouped_df.rename(columns={\"Price\":\"Total Purchase Value\"})\n",
    "top_df = item_grouped_df.sort_values(\"Purchase Count\", ascending=False)\n",
    "top_df = top_df[[\"Purchase Count\", \"Item Price\", \"Total Purchase Value\"]]\n",
    "top_df.head()"
   ]
  },
  {
   "cell_type": "markdown",
   "metadata": {},
   "source": [
    "## Most Profitable Items"
   ]
  },
  {
   "cell_type": "code",
   "execution_count": null,
   "metadata": {},
   "outputs": [],
   "source": [
    "#Pull previous dataframe and re-sort.. \n",
    "most_profit_df = pd.DataFrame(top_df.sort_values(\"Total Purchase Value\",ascending = False))\n",
    "most_profit_df[\"Total Purchase Value\"]=top_df[\"Total Purchase Value\"]\n",
    "most_profit_df.head()"
   ]
  }
 ],
 "metadata": {
  "kernelspec": {
   "display_name": "Python 3",
   "language": "python",
   "name": "python3"
  },
  "language_info": {
   "codemirror_mode": {
    "name": "ipython",
    "version": 3
   },
   "file_extension": ".py",
   "mimetype": "text/x-python",
   "name": "python",
   "nbconvert_exporter": "python",
   "pygments_lexer": "ipython3",
   "version": "3.6.6"
  }
 },
 "nbformat": 4,
 "nbformat_minor": 2
}
